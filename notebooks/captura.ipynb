{
 "cells": [
  {
   "cell_type": "markdown",
   "metadata": {},
   "source": [
    "# Dispositivos de captura"
   ]
  },
  {
   "cell_type": "markdown",
   "metadata": {},
   "source": [
    "Para hacer experimentos de visión artificial nos interesa acceder cómodamente a cualquier fuente de imágenes, almacenada localmente o disponible en un servidor remoto. Por ejemplo:\n",
    "\n",
    "- archivos de imagen (jpg, png, tif, bmp, etc.) \n",
    "\n",
    "- archivos de video (avi, mp4, etc.)\n",
    "\n",
    "- secuencias \"en vivo\" tomadas de una webcam, cámara ip, o smartphone."
   ]
  },
  {
   "cell_type": "markdown",
   "metadata": {},
   "source": [
    "El paquete `umucv` simplifica esta tarea."
   ]
  },
  {
   "cell_type": "markdown",
   "metadata": {},
   "source": [
    "## autoStream"
   ]
  },
  {
   "cell_type": "markdown",
   "metadata": {},
   "source": [
    "La función `mkStream(size,dev)` crea un generador de imágenes:\n",
    "\n",
    "    stream = mkStream(size,dev)\n",
    "\n",
    "    for frame in stream:        \n",
    "        procesa frame\n",
    "\n",
    "Para capturar el teclado podemos usar directamente `cv.waitKey` pocesando los códigos como deseemos.\n",
    "\n",
    "Muchas veces es más cómodo usar `autoStream`, que permite hacer pausas (espacio) salvar frames (tecla s), salir (ESC), y admite opciones en la línea de órdenes para elegir el dispositivo de captura (`--dev`), la resolución deseada (`--size`), forzar un reescalado (`--resize`), repetición de un video (`--loop`) y ejecución frame a frame (`--step`).\n",
    "\n",
    "    for key, frame in autoStream():\n",
    "        \n",
    "        if key = ord('c'):\n",
    "            procesa tecla\n",
    "        \n",
    "        procesa frame\n",
    "\n",
    "Esta función gestiona automáticamente la tecla ESC para terminar, SPACE para hacer pausas, '.' para avanzar frame a frame, y S para guardar en disco la imagen de entrada actual.\n",
    "\n",
    "Se puede pedir ayuda con `--dev=help`"
   ]
  },
  {
   "cell_type": "markdown",
   "metadata": {},
   "source": [
    "Por omisión el dispositivo es la cámara /dev/video0. Para cambiar de webcam y solicitar un tamaño hacemos:\n",
    "\n",
    "    ./programa.py --dev=1 --size=320x240\n",
    "\n",
    "Podemos procesar una lista de imágenes tomadas de un directorio:\n",
    "\n",
    "    ./programa.py --dev=glob:../images/ccorr/scenes/*.png\n",
    "\n",
    "Otra forma de hacer lo mismo, pero visualizando las imágenes disponibles en una ventana, avanzando de una en una con las teclas del ratón:\n",
    "\n",
    "    ./programa.py --dev=dir:../images/ccorr/scenes/*.png\n",
    "\n",
    "Se admiten archivos de vídeo (locales o remotos):\n",
    "\n",
    "    ./programa.py --dev=../images/rot4.mjpg\n",
    "        \n",
    "También se admiten *streams* en vivo remotos, generados por [cámaras online](https://en.wikipedia.org/wiki/IP_camera#Video_standards). Por ejemplo:\n",
    "\n",
    "    ./programa.py --dev=https://iihrwc02.iowa.uiowa.edu/axis-cgi/mjpg/video.cgi?resolution=704x480\n",
    "\n",
    "La *app* \"IP Webcam\" incluye un servidor mjpeg en los smartphones, que permite utilizarlos como fuente de imágenes para los ejercicios.\n",
    "\n",
    "    ./programa.py --dev=http://155.54.X.Y:8080/video\n",
    "\n",
    "La *app* \"VXG RTSP Server (IP camera)\" es un servidor rtsp con codificación H264, que utiza menos ancho de banda:\n",
    "\n",
    "    ./programa.py --dev=rtsp://155.54.X.Y:5540/ch0\n",
    "    \n",
    "En los teléfonos se recomienda desactivar el audio, poner un tamaño de imagen no muy grande y en su caso limitar el bitrate.\n",
    "\n",
    "Para leer vídeos de youtube se puede utilizar la utilidad [`code/youtube.py`](../code/youtube.py). Ejecútalo sin parámetros para ver la ayuda. Por ejemplo:\n",
    "\n",
    "    ./programa.py --dev=`./youtube.py 5 C6LuDdY-KrQ`\n",
    "\n",
    "Se pueden definir abreviaturas en un archivo **alias.txt**."
   ]
  },
  {
   "cell_type": "markdown",
   "metadata": {},
   "source": [
    "## Servidores"
   ]
  },
  {
   "cell_type": "markdown",
   "metadata": {},
   "source": [
    "Hemos incluido dos utilidades para crear \"streams\" en formato mjpeg:\n",
    "\n",
    "- ./`mjpegserver.py`: crea un stream mjpeg a partir cualquier dispositivo de los anteriores. Por ejemplo:\n",
    "\n",
    "        ./mjpegserver.py --dev=picam --size=320x240 --quality=50\n",
    "        \n",
    "    Este stream se captura con\n",
    "    \n",
    "        ./programa.py --dev=http://<IP-DEL-SERVIDOR>:8087/cam.mjpg\n",
    "        \n",
    "- ./`vlcmjpeg.sh`: es un script de bash para llamar a `vlc` con cualquier fuente de video y generar un stream mjpeg:\n",
    "\n",
    "        ./vlcmjpeg.sh https://www.youtube.com/watch?v=aBr2kKAHN6M\n",
    "        \n",
    "    (Es conveniente abrir el vídeo primero con vlc normal para comprobar que se lee bien, y en su caso aceptar certificados.)\n",
    "    \n",
    "    Este stream se captura con\n",
    "    \n",
    "        ./programa.py --dev=http://<IPDELSERVIDOR>:8090\n",
    "    \n",
    "    Podemos transmitir la pantalla de nuestro ordenador:\n",
    "        \n",
    "        ./vlcmjpeg.sh 'screen:// :screen-fps=10 :screen-width=700 :screen-height=500 :screen-top=300'\n",
    "        \n",
    "    O la webcam:\n",
    "    \n",
    "        ./vlcmjpeg.sh 'v4l2://'    \n",
    "    \n",
    "    En, general, podemos emitir cualquier fuente de video admitida por `vlc` y capturarla con `autoStream()`."
   ]
  },
  {
   "cell_type": "markdown",
   "metadata": {},
   "source": [
    "### Visualización en páginas web"
   ]
  },
  {
   "cell_type": "markdown",
   "metadata": {},
   "source": [
    "Los documentos html permiten visualizar video directamente con elementos `<video>`. Para visualizar streams `mjpg` en vivo se usa directamente un elemento `<img src='http:...' >`. "
   ]
  },
  {
   "cell_type": "markdown",
   "metadata": {},
   "source": [
    "## Control de la webcam"
   ]
  },
  {
   "cell_type": "markdown",
   "metadata": {},
   "source": [
    "En la consola de linux usamos **v4l2-ctl**. Los controles disponibles en cada cámara se consultan con:\n",
    "\n",
    "    v4l2-ctl -l\n",
    "\n",
    "Activar o desactivar la eliminación de oscilaciones producidas por la luz eléctrica:\n",
    "\n",
    "        v4l2-ctl -d /dev/video0 -c power_line_frequency=1\n",
    "        v4l2-ctl -d /dev/video0 -c power_line_frequency=0\n",
    "\n",
    "Fijar el nivel de exposición:\n",
    "\n",
    "    v4l2-ctl -d /dev/video0 -c exposure_auto=1 -c exposure_absolute=100\n",
    "    v4l2-ctl -d /dev/video0 -c exposure_auto=1 -c exposure_absolute=1000\n",
    "\n",
    "Exposición automática:\n",
    "\n",
    "    v4l2-ctl -d /dev/video0 -c exposure_auto=3\n",
    "\n",
    "Enfoque fijo:\n",
    "\n",
    "    v4l2-ctl -d /dev/video0 -c focus=255\n",
    "    v4l2-ctl -d /dev/video0 -c focus=0\n",
    "\n",
    "La aplicación *guvcview* permite modificar los parámetros con un interfaz gráfico. \n",
    "\n",
    "El reproductor multimedia VLC (disponible en Linux y Windows) también lo permite."
   ]
  }
 ],
 "metadata": {
  "hide_input": false,
  "kernelspec": {
   "display_name": "Python 3",
   "language": "python",
   "name": "python3"
  },
  "language_info": {
   "codemirror_mode": {
    "name": "ipython",
    "version": 3
   },
   "file_extension": ".py",
   "mimetype": "text/x-python",
   "name": "python",
   "nbconvert_exporter": "python",
   "pygments_lexer": "ipython3",
   "version": "3.8.5"
  },
  "varInspector": {
   "cols": {
    "lenName": 16,
    "lenType": 16,
    "lenVar": 40
   },
   "kernels_config": {
    "python": {
     "delete_cmd_postfix": "",
     "delete_cmd_prefix": "del ",
     "library": "var_list.py",
     "varRefreshCmd": "print(var_dic_list())"
    },
    "r": {
     "delete_cmd_postfix": ") ",
     "delete_cmd_prefix": "rm(",
     "library": "var_list.r",
     "varRefreshCmd": "cat(var_dic_list()) "
    }
   },
   "types_to_exclude": [
    "module",
    "function",
    "builtin_function_or_method",
    "instance",
    "_Feature"
   ],
   "window_display": false
  }
 },
 "nbformat": 4,
 "nbformat_minor": 2
}
